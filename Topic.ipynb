{
 "cells": [
  {
   "cell_type": "markdown",
   "id": "a20f4e35-81b0-4b07-af80-429e882adb00",
   "metadata": {},
   "source": [
    "---\n",
    "title: \"Cancer Relates to Race?\"\n",
    "description: \"Cancer data research\"\n",
    "author: \" \"\n",
    "date: \"2023-07-31\"\n",
    "date modified: \"2023-08-01\"\n",
    "categories: [cancer, data, analysis]\n",
    "---\n"
   ]
  },
  {
   "cell_type": "markdown",
   "id": "f41f68ac",
   "metadata": {},
   "source": [
    "![Aggregating Data Hides Cancer Disparities Affecting Asian and NHPI Patients  in the US - Cancer Therapy Advisor](https://www.cancertherapyadvisor.com/wp-content/uploads/sites/12/2023/01/woman-with-cancer-with-doctor_G_364273373-860x573.jpg)\n",
    "\n",
    "# Introduction\n",
    "This project aims to analyze the potential risk factors of lung cancer in Unites States. \n",
    "\n",
    "\n",
    "\n",
    "## Data Description\n",
    "The data used in this study were retrieved from the CORGIS project, it is information about the rates of cancer deaths in each state is reported. The data shows the total rate as well as rates based on sex, age, and race. Rates are also shown for three specific kinds of cancer: breast cancer, colorectal cancer, and lung cancer. The data is collected from 2007-2013. \n",
    "\n",
    "[Dataset Link](https://corgis-edu.github.io/corgis/csv/cancer/)\n",
    "\n",
    "## Motivations: \n",
    "\n",
    "Cancer, a main health problem for us to care about. By examining cancer death rates based on sex, age, and race, researchers can gain insights into how different demographic groups may be affected by cancer. This can help identify populations that are particularly vulnerable or may require targeted interventions. To understand the risk factors, we may help those people who we care about to avoid cancer. \n",
    "\n",
    "\n",
    "## Main Research Questions:\n",
    "\n",
    "1. Are there significant differences in total cancer rates among states? Which states have the highest and lowest overall cancer death rates?\n",
    "2. How do cancer rates differ between males and females, and across different age groups?\n",
    "3. Are there variations in cancer rates based on different racial or ethnic groups?\n",
    "4. Which states have the highest and lowest rates of breast, colorectal, and lung cancer?\n",
    "5. Are there any correlations between the rates of different types of cancer?\n",
    "6. Are race and ethnicity risk factors for cancer?\n",
    "7. Are there any correlations between cancer death rates and other factors, such as socioeconomic status or access to healthcare?\n",
    "8. Which types of cancer have the highest death rates overall, and how do these rates vary by state?\n",
    "9. Are there any significant differences in cancer death rates based on sex or race?\n"
   ]
  },
  {
   "cell_type": "markdown",
   "id": "3bc6055e-9858-44b8-9d2d-7de3357719b6",
   "metadata": {},
   "source": [
    "# Methods\n",
    "\n",
    "This study was conducted based on data from CORGIS Dataset Project. To analyze data, investigate correlation between death rate and other factors, python and python library are used. \n",
    "\n",
    "\n",
    "## Library Imports & Read Data\n",
    "Package is pre-installed for you if you access through binder. \n",
    "\n",
    "Execute the following cell for important imports."
   ]
  },
  {
   "cell_type": "code",
   "execution_count": 28,
   "id": "4030321e",
   "metadata": {},
   "outputs": [],
   "source": [
    "from bs4 import BeautifulSoup\n",
    "import requests\n",
    "from bs4 import BeautifulSoup\n",
    "import pandas as pd\n",
    "import matplotlib.pyplot as plt\n",
    "import pandas as pd\n",
    "import seaborn as sns\n",
    "import numpy as np\n",
    "import geopandas as gpd\n",
    "# Retrieve the htmnl code of the CORGIS webpage\n",
    "url = \"https://corgis-edu.github.io/corgis/csv/\"\n",
    "response = requests.get(url)\n",
    "html = response.text\n",
    "status = response.status_code\n",
    "soup = BeautifulSoup(html, \"html.parser\")\n",
    "h3_contents = soup.find_all('h3')\n",
    "h3_list = []\n",
    "for h3_tag in h3_contents:\n",
    "  h3_list.append(h3_tag.text)\n",
    "# reference: Assignment 4\n",
    "def pdcorgis(a):\n",
    "  try:\n",
    "    dataset = a.lower()\n",
    "    dataset = dataset.replace(' ', '_')\n",
    "    dataset_url = f\"https://corgis-edu.github.io/corgis/csv/{dataset}/\"\n",
    "    response = requests.get(dataset_url)\n",
    "    html_code = response.text\n",
    "    status = response.status_code\n",
    "    soup = BeautifulSoup(html_code, 'html.parser')\n",
    "    links = soup.find_all('a')\n",
    "    download_link = None\n",
    "    for i in links: \n",
    "      if i.has_attr('download'):\n",
    "        download_link = i['href']\n",
    "        break \n",
    "    if download_link:\n",
    "      csv_url = f\"https://corgis-edu.github.io/corgis/csv/{dataset}/{download_link}\"\n",
    "      corgisdf = pd.read_csv(csv_url)\n",
    "      return corgisdf\n",
    "    else:\n",
    "      return None\n",
    "  except:\n",
    "    print(\"An exception ocurred\")\n",
    "\n",
    "# the dataframe we need for the research\n",
    "df = pdcorgis(\"Cancer\")"
   ]
  },
  {
   "cell_type": "markdown",
   "id": "bb77a970",
   "metadata": {},
   "source": [
    "## Dataset Overview"
   ]
  },
  {
   "cell_type": "markdown",
   "id": "780084bf",
   "metadata": {},
   "source": [
    "This section is for have a general overview and understanding for the dataset of this project. "
   ]
  },
  {
   "cell_type": "code",
   "execution_count": 41,
   "id": "77a19ed9",
   "metadata": {},
   "outputs": [
    {
     "name": "stdout",
     "output_type": "stream",
     "text": [
      "<class 'pandas.core.frame.DataFrame'>\n",
      "RangeIndex: 51 entries, 0 to 50\n",
      "Data columns (total 75 columns):\n",
      " #   Column                                        Non-Null Count  Dtype  \n",
      "---  ------                                        --------------  -----  \n",
      " 0   State                                         51 non-null     object \n",
      " 1   Total.Rate                                    51 non-null     float64\n",
      " 2   Total.Number                                  51 non-null     float64\n",
      " 3   Total.Population                              51 non-null     float64\n",
      " 4   Rates.Age.< 18                                51 non-null     float64\n",
      " 5   Rates.Age.18-45                               51 non-null     float64\n",
      " 6   Rates.Age.45-64                               51 non-null     float64\n",
      " 7   Rates.Age.> 64                                51 non-null     float64\n",
      " 8   Rates.Age and Sex.< 18.Female                 51 non-null     float64\n",
      " 9   Rates.Age and Sex.< 18.Male                   51 non-null     float64\n",
      " 10  Rates.Age and Sex.18 - 45.Female              51 non-null     float64\n",
      " 11  Rates.Age and Sex.18 - 45.Male                51 non-null     float64\n",
      " 12  Rates.Age and Sex.45 - 64.Female              51 non-null     float64\n",
      " 13  Rates.Age and Sex.45 - 64.Male                51 non-null     float64\n",
      " 14  Rates.Age and Sex.> 64.Female                 51 non-null     float64\n",
      " 15  Rates.Age and Sex.> 64.Male                   51 non-null     float64\n",
      " 16  Rates.Race.White                              51 non-null     float64\n",
      " 17  Rates.Race.White non-Hispanic                 51 non-null     float64\n",
      " 18  Rates.Race.Black                              51 non-null     float64\n",
      " 19  Rates.Race.Asian                              51 non-null     float64\n",
      " 20  Rates.Race.Indigenous                         51 non-null     float64\n",
      " 21  Rates.Race and Sex.Female.White               51 non-null     float64\n",
      " 22  Rates.Race and Sex.Female.White non-Hispanic  51 non-null     float64\n",
      " 23  Rates.Race and Sex.Female.Black               51 non-null     float64\n",
      " 24  Rates.Race and Sex.Female.Black non-Hispanic  51 non-null     float64\n",
      " 25  Rates.Race and Sex.Female.Asian               51 non-null     float64\n",
      " 26  Rates.Race and Sex.Female.Indigenous          51 non-null     float64\n",
      " 27  Rates.Race and Sex.Male.White                 51 non-null     float64\n",
      " 28  Rates.Race and Sex.Male.White non-Hispanic    51 non-null     float64\n",
      " 29  Rates.Race and Sex.Male.Black                 51 non-null     float64\n",
      " 30  Rates.Race and Sex.Male.Black non-Hispanic    51 non-null     float64\n",
      " 31  Rates.Race and Sex.Male.Asian                 51 non-null     float64\n",
      " 32  Rates.Race and Sex.Male.Indigenous            51 non-null     float64\n",
      " 33  Rates.Race.Hispanic                           51 non-null     float64\n",
      " 34  Rates.Race and Sex.Female.Hispanic            51 non-null     float64\n",
      " 35  Rates.Race and Sex.Male.Hispanic              51 non-null     float64\n",
      " 36  Types.Breast.Total                            51 non-null     float64\n",
      " 37  Types.Breast.Age.18 - 44                      51 non-null     float64\n",
      " 38  Types.Breast.Age.45 - 64                      51 non-null     float64\n",
      " 39  Types.Breast.Age.> 64                         51 non-null     float64\n",
      " 40  Types.Breast.Race.White                       51 non-null     float64\n",
      " 41  Types.Breast.Race.White non-Hispanic          51 non-null     float64\n",
      " 42  Types.Breast.Race.Black                       51 non-null     float64\n",
      " 43  Types.Breast.Race.Black non-Hispanic          51 non-null     float64\n",
      " 44  Types.Breast.Race.Asian                       51 non-null     float64\n",
      " 45  Types.Breast.Race.Indigenous                  51 non-null     float64\n",
      " 46  Types.Breast.Race.Hispanic                    51 non-null     float64\n",
      " 47  Types.Colorectal.Total                        51 non-null     float64\n",
      " 48  Types.Colorectal.Age and Sex.Female.18 - 44   51 non-null     float64\n",
      " 49  Types.Colorectal.Age and Sex.Male.18 - 44     51 non-null     float64\n",
      " 50  Types.Colorectal.Age and Sex.Female.45 - 64   51 non-null     float64\n",
      " 51  Types.Colorectal.Age and Sex.Male.45 - 64     51 non-null     float64\n",
      " 52  Types.Colorectal.Age and Sex.Female.> 64      51 non-null     float64\n",
      " 53  Types.Colorectal.Age and Sex.Male.> 64        51 non-null     float64\n",
      " 54  Types.Colorectal.Race.White                   51 non-null     float64\n",
      " 55  Types.Colorectal.Race.White non-Hispanic      51 non-null     float64\n",
      " 56  Types.Colorectal.Race.Black                   51 non-null     float64\n",
      " 57  Types.Colorectal.Race.Black non-Hispanic      51 non-null     float64\n",
      " 58  Types.Colorectal.Race.Asian                   51 non-null     float64\n",
      " 59  Types.Colorectal.Race.Indigenous              51 non-null     float64\n",
      " 60  Types.Colorectal.Race.Hispanic                51 non-null     float64\n",
      " 61  Types.Lung.Total                              51 non-null     float64\n",
      " 62  Types.Lung.Age and Sex.Female.18 - 44         51 non-null     float64\n",
      " 63  Types.Lung.Age and Sex.Male.18 - 44           51 non-null     float64\n",
      " 64  Types.Lung.Age and Sex.Female.45 - 64         51 non-null     float64\n",
      " 65  Types.Lung.Age and Sex.Male.45 - 64           51 non-null     float64\n",
      " 66  Types.Lung.Age and Sex.Female.> 64            51 non-null     float64\n",
      " 67  Types.Lung.Age and Sex.Male.> 64              51 non-null     float64\n",
      " 68  Types.Lung.Race.White                         51 non-null     float64\n",
      " 69  Types.Lung.Race.White non-Hispanic            51 non-null     float64\n",
      " 70  Types.Lung.Race.Black                         51 non-null     float64\n",
      " 71  Types.Lung.Race.Black non-Hispanic            51 non-null     float64\n",
      " 72  Types.Lung.Race.Asian                         51 non-null     float64\n",
      " 73  Types.Lung.Race.Indigenous                    51 non-null     float64\n",
      " 74  Types.Lung.Race.Hispanic                      51 non-null     float64\n",
      "dtypes: float64(74), object(1)\n",
      "memory usage: 30.0+ KB\n",
      "None\n",
      "       Total.Rate   Total.Number  Total.Population  Rates.Age.< 18  \\\n",
      "count   51.000000      51.000000      5.100000e+01       51.000000   \n",
      "mean   190.656863   78723.725490      4.240151e+07        2.119608   \n",
      "std     28.592155   80861.292676      4.784244e+07        0.502004   \n",
      "min     98.500000    6361.000000      3.931624e+06        0.000000   \n",
      "25%    176.500000   20631.000000      1.186991e+07        2.050000   \n",
      "50%    196.100000   54930.000000      3.034806e+07        2.200000   \n",
      "75%    210.750000   93328.000000      4.650326e+07        2.400000   \n",
      "max    254.600000  393980.000000      2.611357e+08        2.700000   \n",
      "\n",
      "       Rates.Age.18-45  Rates.Age.45-64  Rates.Age.> 64  \\\n",
      "count        51.000000        51.000000       51.000000   \n",
      "mean         14.764706       197.576471      980.949020   \n",
      "std           2.204343        31.261040       75.189556   \n",
      "min          10.000000       132.300000      735.800000   \n",
      "25%          13.350000       175.000000      943.550000   \n",
      "50%          14.600000       189.300000      999.600000   \n",
      "75%          16.250000       217.850000     1031.450000   \n",
      "max          20.300000       263.900000     1110.200000   \n",
      "\n",
      "       Rates.Age and Sex.< 18.Female  Rates.Age and Sex.< 18.Male  \\\n",
      "count                      51.000000                    51.000000   \n",
      "mean                        1.727451                     2.033333   \n",
      "std                         0.846186                     0.931808   \n",
      "min                         0.000000                     0.000000   \n",
      "25%                         1.750000                     2.050000   \n",
      "50%                         2.000000                     2.300000   \n",
      "75%                         2.200000                     2.500000   \n",
      "max                         2.900000                     3.200000   \n",
      "\n",
      "       Rates.Age and Sex.18 - 45.Female  ...  \\\n",
      "count                         51.000000  ...   \n",
      "mean                          16.013725  ...   \n",
      "std                            2.530219  ...   \n",
      "min                           10.300000  ...   \n",
      "25%                           14.150000  ...   \n",
      "50%                           16.000000  ...   \n",
      "75%                           17.700000  ...   \n",
      "max                           22.800000  ...   \n",
      "\n",
      "       Types.Lung.Age and Sex.Male.45 - 64  \\\n",
      "count                            51.000000   \n",
      "mean                             64.825490   \n",
      "std                              21.288737   \n",
      "min                              26.000000   \n",
      "25%                              48.950000   \n",
      "50%                              59.700000   \n",
      "75%                              77.600000   \n",
      "max                             112.600000   \n",
      "\n",
      "       Types.Lung.Age and Sex.Female.> 64  Types.Lung.Age and Sex.Male.> 64  \\\n",
      "count                           51.000000                         51.000000   \n",
      "mean                           224.668627                        354.956863   \n",
      "std                             33.313394                         69.938477   \n",
      "min                             92.700000                        153.200000   \n",
      "25%                            209.550000                        313.300000   \n",
      "50%                            225.800000                        342.600000   \n",
      "75%                            248.150000                        391.000000   \n",
      "max                            298.300000                        519.100000   \n",
      "\n",
      "       Types.Lung.Race.White  Types.Lung.Race.White non-Hispanic  \\\n",
      "count              51.000000                           51.000000   \n",
      "mean               48.158824                           49.341176   \n",
      "std                 9.446125                            9.274183   \n",
      "min                20.400000                           20.600000   \n",
      "25%                42.750000                           43.700000   \n",
      "50%                48.100000                           48.800000   \n",
      "75%                54.500000                           54.950000   \n",
      "max                71.500000                           71.900000   \n",
      "\n",
      "       Types.Lung.Race.Black  Types.Lung.Race.Black non-Hispanic  \\\n",
      "count              51.000000                           51.000000   \n",
      "mean               44.056863                           44.500000   \n",
      "std                20.517283                           21.431435   \n",
      "min                 0.000000                            0.000000   \n",
      "25%                38.150000                           39.950000   \n",
      "50%                47.000000                           48.600000   \n",
      "75%                60.000000                           60.350000   \n",
      "max                73.200000                           73.600000   \n",
      "\n",
      "       Types.Lung.Race.Asian  Types.Lung.Race.Indigenous  \\\n",
      "count              51.000000                   51.000000   \n",
      "mean               19.323529                   27.309804   \n",
      "std                10.427801                   26.435236   \n",
      "min                 0.000000                    0.000000   \n",
      "25%                18.350000                    4.450000   \n",
      "50%                22.200000                   20.900000   \n",
      "75%                25.500000                   44.250000   \n",
      "max                33.900000                   87.500000   \n",
      "\n",
      "       Types.Lung.Race.Hispanic  \n",
      "count                 51.000000  \n",
      "mean                  16.184314  \n",
      "std                    8.041079  \n",
      "min                    0.000000  \n",
      "25%                   13.700000  \n",
      "50%                   18.100000  \n",
      "75%                   20.450000  \n",
      "max                   35.200000  \n",
      "\n",
      "[8 rows x 74 columns]\n"
     ]
    },
    {
     "data": {
      "text/html": [
       "<div>\n",
       "<style scoped>\n",
       "    .dataframe tbody tr th:only-of-type {\n",
       "        vertical-align: middle;\n",
       "    }\n",
       "\n",
       "    .dataframe tbody tr th {\n",
       "        vertical-align: top;\n",
       "    }\n",
       "\n",
       "    .dataframe thead th {\n",
       "        text-align: right;\n",
       "    }\n",
       "</style>\n",
       "<table border=\"1\" class=\"dataframe\">\n",
       "  <thead>\n",
       "    <tr style=\"text-align: right;\">\n",
       "      <th></th>\n",
       "      <th>State</th>\n",
       "      <th>Total.Rate</th>\n",
       "      <th>Total.Number</th>\n",
       "      <th>Total.Population</th>\n",
       "      <th>Rates.Age.&lt; 18</th>\n",
       "      <th>Rates.Age.18-45</th>\n",
       "      <th>Rates.Age.45-64</th>\n",
       "      <th>Rates.Age.&gt; 64</th>\n",
       "      <th>Rates.Age and Sex.&lt; 18.Female</th>\n",
       "      <th>Rates.Age and Sex.&lt; 18.Male</th>\n",
       "      <th>...</th>\n",
       "      <th>Types.Lung.Age and Sex.Male.45 - 64</th>\n",
       "      <th>Types.Lung.Age and Sex.Female.&gt; 64</th>\n",
       "      <th>Types.Lung.Age and Sex.Male.&gt; 64</th>\n",
       "      <th>Types.Lung.Race.White</th>\n",
       "      <th>Types.Lung.Race.White non-Hispanic</th>\n",
       "      <th>Types.Lung.Race.Black</th>\n",
       "      <th>Types.Lung.Race.Black non-Hispanic</th>\n",
       "      <th>Types.Lung.Race.Asian</th>\n",
       "      <th>Types.Lung.Race.Indigenous</th>\n",
       "      <th>Types.Lung.Race.Hispanic</th>\n",
       "    </tr>\n",
       "  </thead>\n",
       "  <tbody>\n",
       "    <tr>\n",
       "      <th>0</th>\n",
       "      <td>Alabama</td>\n",
       "      <td>214.2</td>\n",
       "      <td>71529.0</td>\n",
       "      <td>33387205.0</td>\n",
       "      <td>2.0</td>\n",
       "      <td>18.5</td>\n",
       "      <td>244.7</td>\n",
       "      <td>1017.8</td>\n",
       "      <td>2.0</td>\n",
       "      <td>2.1</td>\n",
       "      <td>...</td>\n",
       "      <td>102.9</td>\n",
       "      <td>221.7</td>\n",
       "      <td>457.4</td>\n",
       "      <td>59.9</td>\n",
       "      <td>60.4</td>\n",
       "      <td>52.6</td>\n",
       "      <td>52.8</td>\n",
       "      <td>23.0</td>\n",
       "      <td>22.9</td>\n",
       "      <td>14.8</td>\n",
       "    </tr>\n",
       "    <tr>\n",
       "      <th>1</th>\n",
       "      <td>Alaska</td>\n",
       "      <td>128.1</td>\n",
       "      <td>6361.0</td>\n",
       "      <td>4966180.0</td>\n",
       "      <td>1.7</td>\n",
       "      <td>11.8</td>\n",
       "      <td>170.9</td>\n",
       "      <td>965.2</td>\n",
       "      <td>0.0</td>\n",
       "      <td>0.0</td>\n",
       "      <td>...</td>\n",
       "      <td>50.3</td>\n",
       "      <td>268.3</td>\n",
       "      <td>335.0</td>\n",
       "      <td>48.7</td>\n",
       "      <td>49.5</td>\n",
       "      <td>45.6</td>\n",
       "      <td>47.9</td>\n",
       "      <td>33.0</td>\n",
       "      <td>74.4</td>\n",
       "      <td>0.0</td>\n",
       "    </tr>\n",
       "    <tr>\n",
       "      <th>2</th>\n",
       "      <td>Arizona</td>\n",
       "      <td>165.6</td>\n",
       "      <td>74286.0</td>\n",
       "      <td>44845598.0</td>\n",
       "      <td>2.5</td>\n",
       "      <td>13.6</td>\n",
       "      <td>173.6</td>\n",
       "      <td>840.2</td>\n",
       "      <td>2.6</td>\n",
       "      <td>2.5</td>\n",
       "      <td>...</td>\n",
       "      <td>47.0</td>\n",
       "      <td>191.9</td>\n",
       "      <td>275.8</td>\n",
       "      <td>39.5</td>\n",
       "      <td>42.2</td>\n",
       "      <td>38.2</td>\n",
       "      <td>40.4</td>\n",
       "      <td>21.3</td>\n",
       "      <td>11.1</td>\n",
       "      <td>21.6</td>\n",
       "    </tr>\n",
       "    <tr>\n",
       "      <th>3</th>\n",
       "      <td>Arkansas</td>\n",
       "      <td>223.9</td>\n",
       "      <td>45627.0</td>\n",
       "      <td>20382448.0</td>\n",
       "      <td>2.3</td>\n",
       "      <td>17.6</td>\n",
       "      <td>250.1</td>\n",
       "      <td>1048.3</td>\n",
       "      <td>2.6</td>\n",
       "      <td>2.0</td>\n",
       "      <td>...</td>\n",
       "      <td>106.5</td>\n",
       "      <td>248.7</td>\n",
       "      <td>484.7</td>\n",
       "      <td>63.4</td>\n",
       "      <td>64.2</td>\n",
       "      <td>62.9</td>\n",
       "      <td>63.0</td>\n",
       "      <td>18.1</td>\n",
       "      <td>16.2</td>\n",
       "      <td>14.6</td>\n",
       "    </tr>\n",
       "    <tr>\n",
       "      <th>4</th>\n",
       "      <td>California</td>\n",
       "      <td>150.9</td>\n",
       "      <td>393980.0</td>\n",
       "      <td>261135696.0</td>\n",
       "      <td>2.6</td>\n",
       "      <td>13.7</td>\n",
       "      <td>163.7</td>\n",
       "      <td>902.4</td>\n",
       "      <td>2.4</td>\n",
       "      <td>2.8</td>\n",
       "      <td>...</td>\n",
       "      <td>36.8</td>\n",
       "      <td>192.5</td>\n",
       "      <td>269.0</td>\n",
       "      <td>37.2</td>\n",
       "      <td>42.6</td>\n",
       "      <td>46.5</td>\n",
       "      <td>48.6</td>\n",
       "      <td>25.8</td>\n",
       "      <td>18.4</td>\n",
       "      <td>18.3</td>\n",
       "    </tr>\n",
       "  </tbody>\n",
       "</table>\n",
       "<p>5 rows × 75 columns</p>\n",
       "</div>"
      ],
      "text/plain": [
       "        State  Total.Rate  Total.Number  Total.Population  Rates.Age.< 18  \\\n",
       "0     Alabama       214.2       71529.0        33387205.0             2.0   \n",
       "1      Alaska       128.1        6361.0         4966180.0             1.7   \n",
       "2     Arizona       165.6       74286.0        44845598.0             2.5   \n",
       "3    Arkansas       223.9       45627.0        20382448.0             2.3   \n",
       "4  California       150.9      393980.0       261135696.0             2.6   \n",
       "\n",
       "   Rates.Age.18-45  Rates.Age.45-64  Rates.Age.> 64  \\\n",
       "0             18.5            244.7          1017.8   \n",
       "1             11.8            170.9           965.2   \n",
       "2             13.6            173.6           840.2   \n",
       "3             17.6            250.1          1048.3   \n",
       "4             13.7            163.7           902.4   \n",
       "\n",
       "   Rates.Age and Sex.< 18.Female  Rates.Age and Sex.< 18.Male  ...  \\\n",
       "0                            2.0                          2.1  ...   \n",
       "1                            0.0                          0.0  ...   \n",
       "2                            2.6                          2.5  ...   \n",
       "3                            2.6                          2.0  ...   \n",
       "4                            2.4                          2.8  ...   \n",
       "\n",
       "   Types.Lung.Age and Sex.Male.45 - 64  Types.Lung.Age and Sex.Female.> 64  \\\n",
       "0                                102.9                               221.7   \n",
       "1                                 50.3                               268.3   \n",
       "2                                 47.0                               191.9   \n",
       "3                                106.5                               248.7   \n",
       "4                                 36.8                               192.5   \n",
       "\n",
       "   Types.Lung.Age and Sex.Male.> 64  Types.Lung.Race.White  \\\n",
       "0                             457.4                   59.9   \n",
       "1                             335.0                   48.7   \n",
       "2                             275.8                   39.5   \n",
       "3                             484.7                   63.4   \n",
       "4                             269.0                   37.2   \n",
       "\n",
       "   Types.Lung.Race.White non-Hispanic  Types.Lung.Race.Black  \\\n",
       "0                                60.4                   52.6   \n",
       "1                                49.5                   45.6   \n",
       "2                                42.2                   38.2   \n",
       "3                                64.2                   62.9   \n",
       "4                                42.6                   46.5   \n",
       "\n",
       "   Types.Lung.Race.Black non-Hispanic  Types.Lung.Race.Asian  \\\n",
       "0                                52.8                   23.0   \n",
       "1                                47.9                   33.0   \n",
       "2                                40.4                   21.3   \n",
       "3                                63.0                   18.1   \n",
       "4                                48.6                   25.8   \n",
       "\n",
       "   Types.Lung.Race.Indigenous  Types.Lung.Race.Hispanic  \n",
       "0                        22.9                      14.8  \n",
       "1                        74.4                       0.0  \n",
       "2                        11.1                      21.6  \n",
       "3                        16.2                      14.6  \n",
       "4                        18.4                      18.3  \n",
       "\n",
       "[5 rows x 75 columns]"
      ]
     },
     "execution_count": 41,
     "metadata": {},
     "output_type": "execute_result"
    }
   ],
   "source": [
    "print(df.info())\n",
    "print(df.describe())\n",
    "# printing the first 5 rows of dataset\n",
    "df.head()"
   ]
  },
  {
   "cell_type": "markdown",
   "id": "be971897",
   "metadata": {},
   "source": [
    "We could see that there are mainly 4 age groups of metadata in this dataset. However, the metadata names are not canonical and not organized. For example, the data in the columns of Breast Cancer didn't collect the data by sex, comparing to colorectal and lung cancer. \n",
    "And for all these three types of cancer doesn't have the data for age below 18. "
   ]
  },
  {
   "cell_type": "code",
   "execution_count": 45,
   "id": "8b9b55e8",
   "metadata": {},
   "outputs": [],
   "source": [
    "# getting the columns of the dataset\n",
    "columns = list(df.columns)"
   ]
  },
  {
   "cell_type": "code",
   "execution_count": 47,
   "id": "15190c42",
   "metadata": {},
   "outputs": [
    {
     "name": "stdout",
     "output_type": "stream",
     "text": [
      "Missing values distribution: \n",
      "State                                 0.0\n",
      "Total.Rate                            0.0\n",
      "Total.Number                          0.0\n",
      "Total.Population                      0.0\n",
      "Rates.Age.< 18                        0.0\n",
      "                                     ... \n",
      "Types.Lung.Race.Black                 0.0\n",
      "Types.Lung.Race.Black non-Hispanic    0.0\n",
      "Types.Lung.Race.Asian                 0.0\n",
      "Types.Lung.Race.Indigenous            0.0\n",
      "Types.Lung.Race.Hispanic              0.0\n",
      "Length: 75, dtype: float64\n"
     ]
    }
   ],
   "source": [
    "# examining missing values\n",
    "print(\"Missing values distribution: \")\n",
    "print(df.isnull().mean())"
   ]
  },
  {
   "cell_type": "markdown",
   "id": "4bbcd33e",
   "metadata": {},
   "source": []
  },
  {
   "cell_type": "markdown",
   "id": "e7e267f9",
   "metadata": {},
   "source": [
    "A map would be helpful to "
   ]
  },
  {
   "cell_type": "code",
   "execution_count": 27,
   "id": "afee8ade",
   "metadata": {},
   "outputs": [
    {
     "data": {
      "application/vnd.plotly.v1+json": {
       "config": {
        "plotlyServerURL": "https://plot.ly"
       },
       "data": [
        {
         "coloraxis": "coloraxis",
         "geo": "geo",
         "hovertemplate": "<b>%{hovertext}</b><br><br>Abbreviation=%{location}<br>Total.Rate=%{z}<extra></extra>",
         "hovertext": [
          "Alabama",
          "Alaska",
          "Arizona",
          "Arkansas",
          "California",
          "Colorado",
          "Connecticut",
          "Delaware",
          "District of Columbia",
          "Florida",
          "Georgia",
          "Hawaii",
          "Idaho",
          "Illinois",
          "Indiana",
          "Iowa",
          "Kansas",
          "Kentucky",
          "Louisiana",
          "Maine",
          "Maryland",
          "Massachusetts",
          "Michigan",
          "Minnesota",
          "Mississippi",
          "Missouri",
          "Montana",
          "Nebraska",
          "Nevada",
          "New Hampshire",
          "New Jersey",
          "New Mexico",
          "New York",
          "North Carolina",
          "North Dakota",
          "Ohio",
          "Oklahoma",
          "Oregon",
          "Pennsylvania",
          "Rhode Island",
          "South Carolina",
          "South Dakota",
          "Tennessee",
          "Texas",
          "Utah",
          "Vermont",
          "Virginia",
          "Washington",
          "West Virginia",
          "Wisconsin",
          "Wyoming"
         ],
         "locationmode": "USA-states",
         "locations": [
          "AL",
          "AK",
          "AZ",
          "AR",
          "CA",
          "CO",
          "CT",
          "DE",
          "DC",
          "FL",
          "GA",
          "HI",
          "ID",
          "IL",
          "IN",
          "IA",
          "KS",
          "KY",
          "LA",
          "ME",
          "MD",
          "MA",
          "MI",
          "MN",
          "MS",
          "MO",
          "MT",
          "NE",
          "NV",
          "NH",
          "NJ",
          "NM",
          "NY",
          "NC",
          "ND",
          "OH",
          "OK",
          "OR",
          "PA",
          "RI",
          "SC",
          "SD",
          "TN",
          "TX",
          "UT",
          "VT",
          "VA",
          "WA",
          "WV",
          "WI",
          "WY"
         ],
         "name": "",
         "type": "choropleth",
         "z": [
          214.2,
          128.1,
          165.6,
          223.9,
          150.9,
          139,
          190.5,
          210.2,
          182.1,
          219.2,
          159.4,
          166,
          162.1,
          189.2,
          202.7,
          210.3,
          188.9,
          226.3,
          202.9,
          239.1,
          179.3,
          197.8,
          205.3,
          178.4,
          211.4,
          211.2,
          196.1,
          187.5,
          167.9,
          197.9,
          189.9,
          163.2,
          183.2,
          188.7,
          189.1,
          217.8,
          209.4,
          199.1,
          227.7,
          211.2,
          202.6,
          196.2,
          213.1,
          145.8,
          98.5,
          211.6,
          177.1,
          175.9,
          254.6,
          197.5,
          167.9
         ]
        }
       ],
       "layout": {
        "coloraxis": {
         "colorbar": {
          "title": {
           "text": "Total.Rate"
          }
         },
         "colorscale": [
          [
           0,
           "#0d0887"
          ],
          [
           0.1111111111111111,
           "#46039f"
          ],
          [
           0.2222222222222222,
           "#7201a8"
          ],
          [
           0.3333333333333333,
           "#9c179e"
          ],
          [
           0.4444444444444444,
           "#bd3786"
          ],
          [
           0.5555555555555556,
           "#d8576b"
          ],
          [
           0.6666666666666666,
           "#ed7953"
          ],
          [
           0.7777777777777778,
           "#fb9f3a"
          ],
          [
           0.8888888888888888,
           "#fdca26"
          ],
          [
           1,
           "#f0f921"
          ]
         ]
        },
        "geo": {
         "center": {},
         "domain": {
          "x": [
           0,
           1
          ],
          "y": [
           0,
           1
          ]
         },
         "scope": "usa"
        },
        "legend": {
         "tracegroupgap": 0
        },
        "template": {
         "data": {
          "bar": [
           {
            "error_x": {
             "color": "#2a3f5f"
            },
            "error_y": {
             "color": "#2a3f5f"
            },
            "marker": {
             "line": {
              "color": "#E5ECF6",
              "width": 0.5
             },
             "pattern": {
              "fillmode": "overlay",
              "size": 10,
              "solidity": 0.2
             }
            },
            "type": "bar"
           }
          ],
          "barpolar": [
           {
            "marker": {
             "line": {
              "color": "#E5ECF6",
              "width": 0.5
             },
             "pattern": {
              "fillmode": "overlay",
              "size": 10,
              "solidity": 0.2
             }
            },
            "type": "barpolar"
           }
          ],
          "carpet": [
           {
            "aaxis": {
             "endlinecolor": "#2a3f5f",
             "gridcolor": "white",
             "linecolor": "white",
             "minorgridcolor": "white",
             "startlinecolor": "#2a3f5f"
            },
            "baxis": {
             "endlinecolor": "#2a3f5f",
             "gridcolor": "white",
             "linecolor": "white",
             "minorgridcolor": "white",
             "startlinecolor": "#2a3f5f"
            },
            "type": "carpet"
           }
          ],
          "choropleth": [
           {
            "colorbar": {
             "outlinewidth": 0,
             "ticks": ""
            },
            "type": "choropleth"
           }
          ],
          "contour": [
           {
            "colorbar": {
             "outlinewidth": 0,
             "ticks": ""
            },
            "colorscale": [
             [
              0,
              "#0d0887"
             ],
             [
              0.1111111111111111,
              "#46039f"
             ],
             [
              0.2222222222222222,
              "#7201a8"
             ],
             [
              0.3333333333333333,
              "#9c179e"
             ],
             [
              0.4444444444444444,
              "#bd3786"
             ],
             [
              0.5555555555555556,
              "#d8576b"
             ],
             [
              0.6666666666666666,
              "#ed7953"
             ],
             [
              0.7777777777777778,
              "#fb9f3a"
             ],
             [
              0.8888888888888888,
              "#fdca26"
             ],
             [
              1,
              "#f0f921"
             ]
            ],
            "type": "contour"
           }
          ],
          "contourcarpet": [
           {
            "colorbar": {
             "outlinewidth": 0,
             "ticks": ""
            },
            "type": "contourcarpet"
           }
          ],
          "heatmap": [
           {
            "colorbar": {
             "outlinewidth": 0,
             "ticks": ""
            },
            "colorscale": [
             [
              0,
              "#0d0887"
             ],
             [
              0.1111111111111111,
              "#46039f"
             ],
             [
              0.2222222222222222,
              "#7201a8"
             ],
             [
              0.3333333333333333,
              "#9c179e"
             ],
             [
              0.4444444444444444,
              "#bd3786"
             ],
             [
              0.5555555555555556,
              "#d8576b"
             ],
             [
              0.6666666666666666,
              "#ed7953"
             ],
             [
              0.7777777777777778,
              "#fb9f3a"
             ],
             [
              0.8888888888888888,
              "#fdca26"
             ],
             [
              1,
              "#f0f921"
             ]
            ],
            "type": "heatmap"
           }
          ],
          "heatmapgl": [
           {
            "colorbar": {
             "outlinewidth": 0,
             "ticks": ""
            },
            "colorscale": [
             [
              0,
              "#0d0887"
             ],
             [
              0.1111111111111111,
              "#46039f"
             ],
             [
              0.2222222222222222,
              "#7201a8"
             ],
             [
              0.3333333333333333,
              "#9c179e"
             ],
             [
              0.4444444444444444,
              "#bd3786"
             ],
             [
              0.5555555555555556,
              "#d8576b"
             ],
             [
              0.6666666666666666,
              "#ed7953"
             ],
             [
              0.7777777777777778,
              "#fb9f3a"
             ],
             [
              0.8888888888888888,
              "#fdca26"
             ],
             [
              1,
              "#f0f921"
             ]
            ],
            "type": "heatmapgl"
           }
          ],
          "histogram": [
           {
            "marker": {
             "pattern": {
              "fillmode": "overlay",
              "size": 10,
              "solidity": 0.2
             }
            },
            "type": "histogram"
           }
          ],
          "histogram2d": [
           {
            "colorbar": {
             "outlinewidth": 0,
             "ticks": ""
            },
            "colorscale": [
             [
              0,
              "#0d0887"
             ],
             [
              0.1111111111111111,
              "#46039f"
             ],
             [
              0.2222222222222222,
              "#7201a8"
             ],
             [
              0.3333333333333333,
              "#9c179e"
             ],
             [
              0.4444444444444444,
              "#bd3786"
             ],
             [
              0.5555555555555556,
              "#d8576b"
             ],
             [
              0.6666666666666666,
              "#ed7953"
             ],
             [
              0.7777777777777778,
              "#fb9f3a"
             ],
             [
              0.8888888888888888,
              "#fdca26"
             ],
             [
              1,
              "#f0f921"
             ]
            ],
            "type": "histogram2d"
           }
          ],
          "histogram2dcontour": [
           {
            "colorbar": {
             "outlinewidth": 0,
             "ticks": ""
            },
            "colorscale": [
             [
              0,
              "#0d0887"
             ],
             [
              0.1111111111111111,
              "#46039f"
             ],
             [
              0.2222222222222222,
              "#7201a8"
             ],
             [
              0.3333333333333333,
              "#9c179e"
             ],
             [
              0.4444444444444444,
              "#bd3786"
             ],
             [
              0.5555555555555556,
              "#d8576b"
             ],
             [
              0.6666666666666666,
              "#ed7953"
             ],
             [
              0.7777777777777778,
              "#fb9f3a"
             ],
             [
              0.8888888888888888,
              "#fdca26"
             ],
             [
              1,
              "#f0f921"
             ]
            ],
            "type": "histogram2dcontour"
           }
          ],
          "mesh3d": [
           {
            "colorbar": {
             "outlinewidth": 0,
             "ticks": ""
            },
            "type": "mesh3d"
           }
          ],
          "parcoords": [
           {
            "line": {
             "colorbar": {
              "outlinewidth": 0,
              "ticks": ""
             }
            },
            "type": "parcoords"
           }
          ],
          "pie": [
           {
            "automargin": true,
            "type": "pie"
           }
          ],
          "scatter": [
           {
            "fillpattern": {
             "fillmode": "overlay",
             "size": 10,
             "solidity": 0.2
            },
            "type": "scatter"
           }
          ],
          "scatter3d": [
           {
            "line": {
             "colorbar": {
              "outlinewidth": 0,
              "ticks": ""
             }
            },
            "marker": {
             "colorbar": {
              "outlinewidth": 0,
              "ticks": ""
             }
            },
            "type": "scatter3d"
           }
          ],
          "scattercarpet": [
           {
            "marker": {
             "colorbar": {
              "outlinewidth": 0,
              "ticks": ""
             }
            },
            "type": "scattercarpet"
           }
          ],
          "scattergeo": [
           {
            "marker": {
             "colorbar": {
              "outlinewidth": 0,
              "ticks": ""
             }
            },
            "type": "scattergeo"
           }
          ],
          "scattergl": [
           {
            "marker": {
             "colorbar": {
              "outlinewidth": 0,
              "ticks": ""
             }
            },
            "type": "scattergl"
           }
          ],
          "scattermapbox": [
           {
            "marker": {
             "colorbar": {
              "outlinewidth": 0,
              "ticks": ""
             }
            },
            "type": "scattermapbox"
           }
          ],
          "scatterpolar": [
           {
            "marker": {
             "colorbar": {
              "outlinewidth": 0,
              "ticks": ""
             }
            },
            "type": "scatterpolar"
           }
          ],
          "scatterpolargl": [
           {
            "marker": {
             "colorbar": {
              "outlinewidth": 0,
              "ticks": ""
             }
            },
            "type": "scatterpolargl"
           }
          ],
          "scatterternary": [
           {
            "marker": {
             "colorbar": {
              "outlinewidth": 0,
              "ticks": ""
             }
            },
            "type": "scatterternary"
           }
          ],
          "surface": [
           {
            "colorbar": {
             "outlinewidth": 0,
             "ticks": ""
            },
            "colorscale": [
             [
              0,
              "#0d0887"
             ],
             [
              0.1111111111111111,
              "#46039f"
             ],
             [
              0.2222222222222222,
              "#7201a8"
             ],
             [
              0.3333333333333333,
              "#9c179e"
             ],
             [
              0.4444444444444444,
              "#bd3786"
             ],
             [
              0.5555555555555556,
              "#d8576b"
             ],
             [
              0.6666666666666666,
              "#ed7953"
             ],
             [
              0.7777777777777778,
              "#fb9f3a"
             ],
             [
              0.8888888888888888,
              "#fdca26"
             ],
             [
              1,
              "#f0f921"
             ]
            ],
            "type": "surface"
           }
          ],
          "table": [
           {
            "cells": {
             "fill": {
              "color": "#EBF0F8"
             },
             "line": {
              "color": "white"
             }
            },
            "header": {
             "fill": {
              "color": "#C8D4E3"
             },
             "line": {
              "color": "white"
             }
            },
            "type": "table"
           }
          ]
         },
         "layout": {
          "annotationdefaults": {
           "arrowcolor": "#2a3f5f",
           "arrowhead": 0,
           "arrowwidth": 1
          },
          "autotypenumbers": "strict",
          "coloraxis": {
           "colorbar": {
            "outlinewidth": 0,
            "ticks": ""
           }
          },
          "colorscale": {
           "diverging": [
            [
             0,
             "#8e0152"
            ],
            [
             0.1,
             "#c51b7d"
            ],
            [
             0.2,
             "#de77ae"
            ],
            [
             0.3,
             "#f1b6da"
            ],
            [
             0.4,
             "#fde0ef"
            ],
            [
             0.5,
             "#f7f7f7"
            ],
            [
             0.6,
             "#e6f5d0"
            ],
            [
             0.7,
             "#b8e186"
            ],
            [
             0.8,
             "#7fbc41"
            ],
            [
             0.9,
             "#4d9221"
            ],
            [
             1,
             "#276419"
            ]
           ],
           "sequential": [
            [
             0,
             "#0d0887"
            ],
            [
             0.1111111111111111,
             "#46039f"
            ],
            [
             0.2222222222222222,
             "#7201a8"
            ],
            [
             0.3333333333333333,
             "#9c179e"
            ],
            [
             0.4444444444444444,
             "#bd3786"
            ],
            [
             0.5555555555555556,
             "#d8576b"
            ],
            [
             0.6666666666666666,
             "#ed7953"
            ],
            [
             0.7777777777777778,
             "#fb9f3a"
            ],
            [
             0.8888888888888888,
             "#fdca26"
            ],
            [
             1,
             "#f0f921"
            ]
           ],
           "sequentialminus": [
            [
             0,
             "#0d0887"
            ],
            [
             0.1111111111111111,
             "#46039f"
            ],
            [
             0.2222222222222222,
             "#7201a8"
            ],
            [
             0.3333333333333333,
             "#9c179e"
            ],
            [
             0.4444444444444444,
             "#bd3786"
            ],
            [
             0.5555555555555556,
             "#d8576b"
            ],
            [
             0.6666666666666666,
             "#ed7953"
            ],
            [
             0.7777777777777778,
             "#fb9f3a"
            ],
            [
             0.8888888888888888,
             "#fdca26"
            ],
            [
             1,
             "#f0f921"
            ]
           ]
          },
          "colorway": [
           "#636efa",
           "#EF553B",
           "#00cc96",
           "#ab63fa",
           "#FFA15A",
           "#19d3f3",
           "#FF6692",
           "#B6E880",
           "#FF97FF",
           "#FECB52"
          ],
          "font": {
           "color": "#2a3f5f"
          },
          "geo": {
           "bgcolor": "white",
           "lakecolor": "white",
           "landcolor": "#E5ECF6",
           "showlakes": true,
           "showland": true,
           "subunitcolor": "white"
          },
          "hoverlabel": {
           "align": "left"
          },
          "hovermode": "closest",
          "mapbox": {
           "style": "light"
          },
          "paper_bgcolor": "white",
          "plot_bgcolor": "#E5ECF6",
          "polar": {
           "angularaxis": {
            "gridcolor": "white",
            "linecolor": "white",
            "ticks": ""
           },
           "bgcolor": "#E5ECF6",
           "radialaxis": {
            "gridcolor": "white",
            "linecolor": "white",
            "ticks": ""
           }
          },
          "scene": {
           "xaxis": {
            "backgroundcolor": "#E5ECF6",
            "gridcolor": "white",
            "gridwidth": 2,
            "linecolor": "white",
            "showbackground": true,
            "ticks": "",
            "zerolinecolor": "white"
           },
           "yaxis": {
            "backgroundcolor": "#E5ECF6",
            "gridcolor": "white",
            "gridwidth": 2,
            "linecolor": "white",
            "showbackground": true,
            "ticks": "",
            "zerolinecolor": "white"
           },
           "zaxis": {
            "backgroundcolor": "#E5ECF6",
            "gridcolor": "white",
            "gridwidth": 2,
            "linecolor": "white",
            "showbackground": true,
            "ticks": "",
            "zerolinecolor": "white"
           }
          },
          "shapedefaults": {
           "line": {
            "color": "#2a3f5f"
           }
          },
          "ternary": {
           "aaxis": {
            "gridcolor": "white",
            "linecolor": "white",
            "ticks": ""
           },
           "baxis": {
            "gridcolor": "white",
            "linecolor": "white",
            "ticks": ""
           },
           "bgcolor": "#E5ECF6",
           "caxis": {
            "gridcolor": "white",
            "linecolor": "white",
            "ticks": ""
           }
          },
          "title": {
           "x": 0.05
          },
          "xaxis": {
           "automargin": true,
           "gridcolor": "white",
           "linecolor": "white",
           "ticks": "",
           "title": {
            "standoff": 15
           },
           "zerolinecolor": "white",
           "zerolinewidth": 2
          },
          "yaxis": {
           "automargin": true,
           "gridcolor": "white",
           "linecolor": "white",
           "ticks": "",
           "title": {
            "standoff": 15
           },
           "zerolinecolor": "white",
           "zerolinewidth": 2
          }
         }
        },
        "title": {
         "text": "Cancer Death Rates by State"
        }
       }
      },
      "text/html": [
       "<div>                            <div id=\"7dcf0b3d-36a0-481c-a9a3-df73750b75fa\" class=\"plotly-graph-div\" style=\"height:525px; width:100%;\"></div>            <script type=\"text/javascript\">                require([\"plotly\"], function(Plotly) {                    window.PLOTLYENV=window.PLOTLYENV || {};                                    if (document.getElementById(\"7dcf0b3d-36a0-481c-a9a3-df73750b75fa\")) {                    Plotly.newPlot(                        \"7dcf0b3d-36a0-481c-a9a3-df73750b75fa\",                        [{\"coloraxis\":\"coloraxis\",\"geo\":\"geo\",\"hovertemplate\":\"\\u003cb\\u003e%{hovertext}\\u003c\\u002fb\\u003e\\u003cbr\\u003e\\u003cbr\\u003eAbbreviation=%{location}\\u003cbr\\u003eTotal.Rate=%{z}\\u003cextra\\u003e\\u003c\\u002fextra\\u003e\",\"hovertext\":[\"Alabama\",\"Alaska\",\"Arizona\",\"Arkansas\",\"California\",\"Colorado\",\"Connecticut\",\"Delaware\",\"District of Columbia\",\"Florida\",\"Georgia\",\"Hawaii\",\"Idaho\",\"Illinois\",\"Indiana\",\"Iowa\",\"Kansas\",\"Kentucky\",\"Louisiana\",\"Maine\",\"Maryland\",\"Massachusetts\",\"Michigan\",\"Minnesota\",\"Mississippi\",\"Missouri\",\"Montana\",\"Nebraska\",\"Nevada\",\"New Hampshire\",\"New Jersey\",\"New Mexico\",\"New York\",\"North Carolina\",\"North Dakota\",\"Ohio\",\"Oklahoma\",\"Oregon\",\"Pennsylvania\",\"Rhode Island\",\"South Carolina\",\"South Dakota\",\"Tennessee\",\"Texas\",\"Utah\",\"Vermont\",\"Virginia\",\"Washington\",\"West Virginia\",\"Wisconsin\",\"Wyoming\"],\"locationmode\":\"USA-states\",\"locations\":[\"AL\",\"AK\",\"AZ\",\"AR\",\"CA\",\"CO\",\"CT\",\"DE\",\"DC\",\"FL\",\"GA\",\"HI\",\"ID\",\"IL\",\"IN\",\"IA\",\"KS\",\"KY\",\"LA\",\"ME\",\"MD\",\"MA\",\"MI\",\"MN\",\"MS\",\"MO\",\"MT\",\"NE\",\"NV\",\"NH\",\"NJ\",\"NM\",\"NY\",\"NC\",\"ND\",\"OH\",\"OK\",\"OR\",\"PA\",\"RI\",\"SC\",\"SD\",\"TN\",\"TX\",\"UT\",\"VT\",\"VA\",\"WA\",\"WV\",\"WI\",\"WY\"],\"name\":\"\",\"z\":[214.2,128.1,165.6,223.9,150.9,139.0,190.5,210.2,182.1,219.2,159.4,166.0,162.1,189.2,202.7,210.3,188.9,226.3,202.9,239.1,179.3,197.8,205.3,178.4,211.4,211.2,196.1,187.5,167.9,197.9,189.9,163.2,183.2,188.7,189.1,217.8,209.4,199.1,227.7,211.2,202.6,196.2,213.1,145.8,98.5,211.6,177.1,175.9,254.6,197.5,167.9],\"type\":\"choropleth\"}],                        {\"template\":{\"data\":{\"histogram2dcontour\":[{\"type\":\"histogram2dcontour\",\"colorbar\":{\"outlinewidth\":0,\"ticks\":\"\"},\"colorscale\":[[0.0,\"#0d0887\"],[0.1111111111111111,\"#46039f\"],[0.2222222222222222,\"#7201a8\"],[0.3333333333333333,\"#9c179e\"],[0.4444444444444444,\"#bd3786\"],[0.5555555555555556,\"#d8576b\"],[0.6666666666666666,\"#ed7953\"],[0.7777777777777778,\"#fb9f3a\"],[0.8888888888888888,\"#fdca26\"],[1.0,\"#f0f921\"]]}],\"choropleth\":[{\"type\":\"choropleth\",\"colorbar\":{\"outlinewidth\":0,\"ticks\":\"\"}}],\"histogram2d\":[{\"type\":\"histogram2d\",\"colorbar\":{\"outlinewidth\":0,\"ticks\":\"\"},\"colorscale\":[[0.0,\"#0d0887\"],[0.1111111111111111,\"#46039f\"],[0.2222222222222222,\"#7201a8\"],[0.3333333333333333,\"#9c179e\"],[0.4444444444444444,\"#bd3786\"],[0.5555555555555556,\"#d8576b\"],[0.6666666666666666,\"#ed7953\"],[0.7777777777777778,\"#fb9f3a\"],[0.8888888888888888,\"#fdca26\"],[1.0,\"#f0f921\"]]}],\"heatmap\":[{\"type\":\"heatmap\",\"colorbar\":{\"outlinewidth\":0,\"ticks\":\"\"},\"colorscale\":[[0.0,\"#0d0887\"],[0.1111111111111111,\"#46039f\"],[0.2222222222222222,\"#7201a8\"],[0.3333333333333333,\"#9c179e\"],[0.4444444444444444,\"#bd3786\"],[0.5555555555555556,\"#d8576b\"],[0.6666666666666666,\"#ed7953\"],[0.7777777777777778,\"#fb9f3a\"],[0.8888888888888888,\"#fdca26\"],[1.0,\"#f0f921\"]]}],\"heatmapgl\":[{\"type\":\"heatmapgl\",\"colorbar\":{\"outlinewidth\":0,\"ticks\":\"\"},\"colorscale\":[[0.0,\"#0d0887\"],[0.1111111111111111,\"#46039f\"],[0.2222222222222222,\"#7201a8\"],[0.3333333333333333,\"#9c179e\"],[0.4444444444444444,\"#bd3786\"],[0.5555555555555556,\"#d8576b\"],[0.6666666666666666,\"#ed7953\"],[0.7777777777777778,\"#fb9f3a\"],[0.8888888888888888,\"#fdca26\"],[1.0,\"#f0f921\"]]}],\"contourcarpet\":[{\"type\":\"contourcarpet\",\"colorbar\":{\"outlinewidth\":0,\"ticks\":\"\"}}],\"contour\":[{\"type\":\"contour\",\"colorbar\":{\"outlinewidth\":0,\"ticks\":\"\"},\"colorscale\":[[0.0,\"#0d0887\"],[0.1111111111111111,\"#46039f\"],[0.2222222222222222,\"#7201a8\"],[0.3333333333333333,\"#9c179e\"],[0.4444444444444444,\"#bd3786\"],[0.5555555555555556,\"#d8576b\"],[0.6666666666666666,\"#ed7953\"],[0.7777777777777778,\"#fb9f3a\"],[0.8888888888888888,\"#fdca26\"],[1.0,\"#f0f921\"]]}],\"surface\":[{\"type\":\"surface\",\"colorbar\":{\"outlinewidth\":0,\"ticks\":\"\"},\"colorscale\":[[0.0,\"#0d0887\"],[0.1111111111111111,\"#46039f\"],[0.2222222222222222,\"#7201a8\"],[0.3333333333333333,\"#9c179e\"],[0.4444444444444444,\"#bd3786\"],[0.5555555555555556,\"#d8576b\"],[0.6666666666666666,\"#ed7953\"],[0.7777777777777778,\"#fb9f3a\"],[0.8888888888888888,\"#fdca26\"],[1.0,\"#f0f921\"]]}],\"mesh3d\":[{\"type\":\"mesh3d\",\"colorbar\":{\"outlinewidth\":0,\"ticks\":\"\"}}],\"scatter\":[{\"fillpattern\":{\"fillmode\":\"overlay\",\"size\":10,\"solidity\":0.2},\"type\":\"scatter\"}],\"parcoords\":[{\"type\":\"parcoords\",\"line\":{\"colorbar\":{\"outlinewidth\":0,\"ticks\":\"\"}}}],\"scatterpolargl\":[{\"type\":\"scatterpolargl\",\"marker\":{\"colorbar\":{\"outlinewidth\":0,\"ticks\":\"\"}}}],\"bar\":[{\"error_x\":{\"color\":\"#2a3f5f\"},\"error_y\":{\"color\":\"#2a3f5f\"},\"marker\":{\"line\":{\"color\":\"#E5ECF6\",\"width\":0.5},\"pattern\":{\"fillmode\":\"overlay\",\"size\":10,\"solidity\":0.2}},\"type\":\"bar\"}],\"scattergeo\":[{\"type\":\"scattergeo\",\"marker\":{\"colorbar\":{\"outlinewidth\":0,\"ticks\":\"\"}}}],\"scatterpolar\":[{\"type\":\"scatterpolar\",\"marker\":{\"colorbar\":{\"outlinewidth\":0,\"ticks\":\"\"}}}],\"histogram\":[{\"marker\":{\"pattern\":{\"fillmode\":\"overlay\",\"size\":10,\"solidity\":0.2}},\"type\":\"histogram\"}],\"scattergl\":[{\"type\":\"scattergl\",\"marker\":{\"colorbar\":{\"outlinewidth\":0,\"ticks\":\"\"}}}],\"scatter3d\":[{\"type\":\"scatter3d\",\"line\":{\"colorbar\":{\"outlinewidth\":0,\"ticks\":\"\"}},\"marker\":{\"colorbar\":{\"outlinewidth\":0,\"ticks\":\"\"}}}],\"scattermapbox\":[{\"type\":\"scattermapbox\",\"marker\":{\"colorbar\":{\"outlinewidth\":0,\"ticks\":\"\"}}}],\"scatterternary\":[{\"type\":\"scatterternary\",\"marker\":{\"colorbar\":{\"outlinewidth\":0,\"ticks\":\"\"}}}],\"scattercarpet\":[{\"type\":\"scattercarpet\",\"marker\":{\"colorbar\":{\"outlinewidth\":0,\"ticks\":\"\"}}}],\"carpet\":[{\"aaxis\":{\"endlinecolor\":\"#2a3f5f\",\"gridcolor\":\"white\",\"linecolor\":\"white\",\"minorgridcolor\":\"white\",\"startlinecolor\":\"#2a3f5f\"},\"baxis\":{\"endlinecolor\":\"#2a3f5f\",\"gridcolor\":\"white\",\"linecolor\":\"white\",\"minorgridcolor\":\"white\",\"startlinecolor\":\"#2a3f5f\"},\"type\":\"carpet\"}],\"table\":[{\"cells\":{\"fill\":{\"color\":\"#EBF0F8\"},\"line\":{\"color\":\"white\"}},\"header\":{\"fill\":{\"color\":\"#C8D4E3\"},\"line\":{\"color\":\"white\"}},\"type\":\"table\"}],\"barpolar\":[{\"marker\":{\"line\":{\"color\":\"#E5ECF6\",\"width\":0.5},\"pattern\":{\"fillmode\":\"overlay\",\"size\":10,\"solidity\":0.2}},\"type\":\"barpolar\"}],\"pie\":[{\"automargin\":true,\"type\":\"pie\"}]},\"layout\":{\"autotypenumbers\":\"strict\",\"colorway\":[\"#636efa\",\"#EF553B\",\"#00cc96\",\"#ab63fa\",\"#FFA15A\",\"#19d3f3\",\"#FF6692\",\"#B6E880\",\"#FF97FF\",\"#FECB52\"],\"font\":{\"color\":\"#2a3f5f\"},\"hovermode\":\"closest\",\"hoverlabel\":{\"align\":\"left\"},\"paper_bgcolor\":\"white\",\"plot_bgcolor\":\"#E5ECF6\",\"polar\":{\"bgcolor\":\"#E5ECF6\",\"angularaxis\":{\"gridcolor\":\"white\",\"linecolor\":\"white\",\"ticks\":\"\"},\"radialaxis\":{\"gridcolor\":\"white\",\"linecolor\":\"white\",\"ticks\":\"\"}},\"ternary\":{\"bgcolor\":\"#E5ECF6\",\"aaxis\":{\"gridcolor\":\"white\",\"linecolor\":\"white\",\"ticks\":\"\"},\"baxis\":{\"gridcolor\":\"white\",\"linecolor\":\"white\",\"ticks\":\"\"},\"caxis\":{\"gridcolor\":\"white\",\"linecolor\":\"white\",\"ticks\":\"\"}},\"coloraxis\":{\"colorbar\":{\"outlinewidth\":0,\"ticks\":\"\"}},\"colorscale\":{\"sequential\":[[0.0,\"#0d0887\"],[0.1111111111111111,\"#46039f\"],[0.2222222222222222,\"#7201a8\"],[0.3333333333333333,\"#9c179e\"],[0.4444444444444444,\"#bd3786\"],[0.5555555555555556,\"#d8576b\"],[0.6666666666666666,\"#ed7953\"],[0.7777777777777778,\"#fb9f3a\"],[0.8888888888888888,\"#fdca26\"],[1.0,\"#f0f921\"]],\"sequentialminus\":[[0.0,\"#0d0887\"],[0.1111111111111111,\"#46039f\"],[0.2222222222222222,\"#7201a8\"],[0.3333333333333333,\"#9c179e\"],[0.4444444444444444,\"#bd3786\"],[0.5555555555555556,\"#d8576b\"],[0.6666666666666666,\"#ed7953\"],[0.7777777777777778,\"#fb9f3a\"],[0.8888888888888888,\"#fdca26\"],[1.0,\"#f0f921\"]],\"diverging\":[[0,\"#8e0152\"],[0.1,\"#c51b7d\"],[0.2,\"#de77ae\"],[0.3,\"#f1b6da\"],[0.4,\"#fde0ef\"],[0.5,\"#f7f7f7\"],[0.6,\"#e6f5d0\"],[0.7,\"#b8e186\"],[0.8,\"#7fbc41\"],[0.9,\"#4d9221\"],[1,\"#276419\"]]},\"xaxis\":{\"gridcolor\":\"white\",\"linecolor\":\"white\",\"ticks\":\"\",\"title\":{\"standoff\":15},\"zerolinecolor\":\"white\",\"automargin\":true,\"zerolinewidth\":2},\"yaxis\":{\"gridcolor\":\"white\",\"linecolor\":\"white\",\"ticks\":\"\",\"title\":{\"standoff\":15},\"zerolinecolor\":\"white\",\"automargin\":true,\"zerolinewidth\":2},\"scene\":{\"xaxis\":{\"backgroundcolor\":\"#E5ECF6\",\"gridcolor\":\"white\",\"linecolor\":\"white\",\"showbackground\":true,\"ticks\":\"\",\"zerolinecolor\":\"white\",\"gridwidth\":2},\"yaxis\":{\"backgroundcolor\":\"#E5ECF6\",\"gridcolor\":\"white\",\"linecolor\":\"white\",\"showbackground\":true,\"ticks\":\"\",\"zerolinecolor\":\"white\",\"gridwidth\":2},\"zaxis\":{\"backgroundcolor\":\"#E5ECF6\",\"gridcolor\":\"white\",\"linecolor\":\"white\",\"showbackground\":true,\"ticks\":\"\",\"zerolinecolor\":\"white\",\"gridwidth\":2}},\"shapedefaults\":{\"line\":{\"color\":\"#2a3f5f\"}},\"annotationdefaults\":{\"arrowcolor\":\"#2a3f5f\",\"arrowhead\":0,\"arrowwidth\":1},\"geo\":{\"bgcolor\":\"white\",\"landcolor\":\"#E5ECF6\",\"subunitcolor\":\"white\",\"showland\":true,\"showlakes\":true,\"lakecolor\":\"white\"},\"title\":{\"x\":0.05},\"mapbox\":{\"style\":\"light\"}}},\"geo\":{\"domain\":{\"x\":[0.0,1.0],\"y\":[0.0,1.0]},\"center\":{},\"scope\":\"usa\"},\"coloraxis\":{\"colorbar\":{\"title\":{\"text\":\"Total.Rate\"}},\"colorscale\":[[0.0,\"#0d0887\"],[0.1111111111111111,\"#46039f\"],[0.2222222222222222,\"#7201a8\"],[0.3333333333333333,\"#9c179e\"],[0.4444444444444444,\"#bd3786\"],[0.5555555555555556,\"#d8576b\"],[0.6666666666666666,\"#ed7953\"],[0.7777777777777778,\"#fb9f3a\"],[0.8888888888888888,\"#fdca26\"],[1.0,\"#f0f921\"]]},\"legend\":{\"tracegroupgap\":0},\"title\":{\"text\":\"Cancer Death Rates by State\"}},                        {\"responsive\": true}                    ).then(function(){\n",
       "                            \n",
       "var gd = document.getElementById('7dcf0b3d-36a0-481c-a9a3-df73750b75fa');\n",
       "var x = new MutationObserver(function (mutations, observer) {{\n",
       "        var display = window.getComputedStyle(gd).display;\n",
       "        if (!display || display === 'none') {{\n",
       "            console.log([gd, 'removed!']);\n",
       "            Plotly.purge(gd);\n",
       "            observer.disconnect();\n",
       "        }}\n",
       "}});\n",
       "\n",
       "// Listen for the removal of the full notebook cells\n",
       "var notebookContainer = gd.closest('#notebook-container');\n",
       "if (notebookContainer) {{\n",
       "    x.observe(notebookContainer, {childList: true});\n",
       "}}\n",
       "\n",
       "// Listen for the clearing of the current output cell\n",
       "var outputEl = gd.closest('.output');\n",
       "if (outputEl) {{\n",
       "    x.observe(outputEl, {childList: true});\n",
       "}}\n",
       "\n",
       "                        })                };                });            </script>        </div>"
      ]
     },
     "metadata": {},
     "output_type": "display_data"
    }
   ],
   "source": [
    "import plotly.express as px\n",
    "# for using plotly, we need to convert full state name to their abbreviations in python since it does not recoginze full name of state\n",
    "# reference for this:https://gist.github.com/rogerallen/1583593 (A Python Dictionary to translate US States to Two letter codes)\n",
    "us_state_to_abbrev = {\n",
    "    \"Alabama\": \"AL\",\n",
    "    \"Alaska\": \"AK\",\n",
    "    \"Arizona\": \"AZ\",\n",
    "    \"Arkansas\": \"AR\",\n",
    "    \"California\": \"CA\",\n",
    "    \"Colorado\": \"CO\",\n",
    "    \"Connecticut\": \"CT\",\n",
    "    \"Delaware\": \"DE\",\n",
    "    \"Florida\": \"FL\",\n",
    "    \"Georgia\": \"GA\",\n",
    "    \"Hawaii\": \"HI\",\n",
    "    \"Idaho\": \"ID\",\n",
    "    \"Illinois\": \"IL\",\n",
    "    \"Indiana\": \"IN\",\n",
    "    \"Iowa\": \"IA\",\n",
    "    \"Kansas\": \"KS\",\n",
    "    \"Kentucky\": \"KY\",\n",
    "    \"Louisiana\": \"LA\",\n",
    "    \"Maine\": \"ME\",\n",
    "    \"Maryland\": \"MD\",\n",
    "    \"Massachusetts\": \"MA\",\n",
    "    \"Michigan\": \"MI\",\n",
    "    \"Minnesota\": \"MN\",\n",
    "    \"Mississippi\": \"MS\",\n",
    "    \"Missouri\": \"MO\",\n",
    "    \"Montana\": \"MT\",\n",
    "    \"Nebraska\": \"NE\",\n",
    "    \"Nevada\": \"NV\",\n",
    "    \"New Hampshire\": \"NH\",\n",
    "    \"New Jersey\": \"NJ\",\n",
    "    \"New Mexico\": \"NM\",\n",
    "    \"New York\": \"NY\",\n",
    "    \"North Carolina\": \"NC\",\n",
    "    \"North Dakota\": \"ND\",\n",
    "    \"Ohio\": \"OH\",\n",
    "    \"Oklahoma\": \"OK\",\n",
    "    \"Oregon\": \"OR\",\n",
    "    \"Pennsylvania\": \"PA\",\n",
    "    \"Rhode Island\": \"RI\",\n",
    "    \"South Carolina\": \"SC\",\n",
    "    \"South Dakota\": \"SD\",\n",
    "    \"Tennessee\": \"TN\",\n",
    "    \"Texas\": \"TX\",\n",
    "    \"Utah\": \"UT\",\n",
    "    \"Vermont\": \"VT\",\n",
    "    \"Virginia\": \"VA\",\n",
    "    \"Washington\": \"WA\",\n",
    "    \"West Virginia\": \"WV\",\n",
    "    \"Wisconsin\": \"WI\",\n",
    "    \"Wyoming\": \"WY\",\n",
    "    \"District of Columbia\": \"DC\",\n",
    "    \"American Samoa\": \"AS\",\n",
    "    \"Guam\": \"GU\",\n",
    "    \"Northern Mariana Islands\": \"MP\",\n",
    "    \"Puerto Rico\": \"PR\",\n",
    "    \"United States Minor Outlying Islands\": \"UM\",\n",
    "    \"U.S. Virgin Islands\": \"VI\",\n",
    "}\n",
    "df['Abbreviation'] = df['State'].map(us_state_to_abbrev)\n",
    "# Create the choropleth map\n",
    "fig = px.choropleth(df,\n",
    "                    locations=df['Abbreviation'],\n",
    "                    locationmode='USA-states',  # set the location mode to 'country names' for USA states\n",
    "                    color='Total.Rate',  # the variable to be represented by color\n",
    "                    hover_name='State',  # the values to be displayed when hovering over each state\n",
    "                    scope='usa',  # set the scope to 'usa' for United States map\n",
    "                    title='Cancer Death Rates by State')\n",
    "\n",
    "# Show the map\n",
    "fig.show()"
   ]
  },
  {
   "cell_type": "markdown",
   "id": "38c8904f",
   "metadata": {},
   "source": [
    "Geographically, the map helps identify regions with higher or lower cancer death rate levels, revealing patterns and\n",
    "contrasts."
   ]
  },
  {
   "cell_type": "markdown",
   "id": "6c4e596c",
   "metadata": {},
   "source": [
    "First, we are going to use a pie chart to analysis the proportion of different types of cancer in the United States. "
   ]
  },
  {
   "cell_type": "code",
   "execution_count": 177,
   "id": "d4c7b7dd",
   "metadata": {},
   "outputs": [
    {
     "data": {
      "image/png": "[encoded data removed]",
      "text/plain": [
       "<Figure size 640x480 with 1 Axes>"
      ]
     },
     "metadata": {},
     "output_type": "display_data"
    }
   ],
   "source": [
    "breast_total = df['Types.Breast.Total'].mean()\n",
    "colorectal_total = df['Types.Colorectal.Total'].mean()\n",
    "lung_total = df['Types.Lung.Total'].mean()\n",
    "cancer_counts = [breast_total, colorectal_total, lung_total]\n",
    "cancer_labels = ['Breast Cancer', 'Colorectal Cancer', 'Lung Cancer']\n",
    "\n",
    "plt.pie(cancer_counts, labels=cancer_labels, autopct='%1.1f%%')\n",
    "plt.title('The Proportion of Different Types of Cancer in United States')\n",
    "plt.show()"
   ]
  },
  {
   "cell_type": "markdown",
   "id": "6276e283",
   "metadata": {},
   "source": [
    "We could see from above figures that, the lung cancer is the main cancer that lead to death among these three types of cancer in the Unite States. \n",
    "Luan Cancer is the leading cause of cancer death worldwide. An estimated 238,340 PEOPLE will be diagnosed with lung cancer in 2023 in the U.S."
   ]
  },
  {
   "cell_type": "markdown",
   "id": "f0388100",
   "metadata": {},
   "source": [
    "We are firstly have data visualization to investigate if there are significant differences in total cancer rates among states. Use bar plot. This code assumes that the dataset includes the \"State\" column for the x-axis and \"Total.Rate\" column for the y-axis."
   ]
  },
  {
   "cell_type": "code",
   "execution_count": 183,
   "id": "0db2286e-06f7-448a-894e-9f013d160cbd",
   "metadata": {},
   "outputs": [
    {
     "data": {
      "image/png": "[encoded data removed]",
      "text/plain": [
       "<Figure size 1200x800 with 1 Axes>"
      ]
     },
     "metadata": {},
     "output_type": "display_data"
    }
   ],
   "source": [
    "states = df[\"State\"]\n",
    "total_rates = df[\"Types.Lung.Total\"]\n",
    "\n",
    "# Plot the bar chart\n",
    "fig, ax = plt.subplots(figsize=(12, 8))\n",
    "ax.bar(states, df[\"Types.Lung.Total\"])\n",
    "plt.axhline(y=np.nanmean(total_rates), color='red', ls='dotted')\n",
    "ax.set_xlabel(\"State\")\n",
    "ax.set_ylabel(\"Total Lung Cancer Death Rate\")\n",
    "ax.set_title(\"Total Lung Cancer Death Rates by State\")\n",
    "ax.tick_params(axis='x', rotation=90)\n",
    "plt.tight_layout()\n",
    "plt.show()"
   ]
  },
  {
   "cell_type": "markdown",
   "id": "4afe7edc",
   "metadata": {},
   "source": [
    "As above figure shown, Utah is the state which has the lowest cancer death rate. And West Virginia is the state with highest lung cancer death rate. The dot line means average cancer rate for states. \n",
    "We are going to choose West Virginia as the state sample for our research to investigate why its cancer rate is the highest. \n",
    "Next, we are going to display a line plot to analyze trends in cancer rates across age groups in west Virginia."
   ]
  },
  {
   "cell_type": "code",
   "execution_count": 140,
   "id": "ca1a5ad6",
   "metadata": {},
   "outputs": [
    {
     "data": {
      "image/png": "[encoded data removed]",
      "text/plain": [
       "<Figure size 640x480 with 1 Axes>"
      ]
     },
     "metadata": {},
     "output_type": "display_data"
    }
   ],
   "source": [
    "# Select the relevant columns for race-based analysis\n",
    "race_columns = ['Rates.Race.White', 'Rates.Race.White non-Hispanic',\n",
    "                'Rates.Race.Black', 'Rates.Race.Asian',\n",
    "                'Rates.Race.Indigenous', 'Rates.Race.Hispanic']\n",
    "race_names = [\"White\", \"White non-Hispanic\", \"Black\", \"Black non-Hispanic\", \"Asian\", \"Indigenous\"]\n",
    "cancer_types = ['Lung', 'Breast', 'Colorectal']\n",
    "\n",
    "# Create a new dataframe with race columns\n",
    "race_df = df[race_columns]\n",
    "cancer_type = \"Lung\" \n",
    "subset_df = df[[f\"Types.{cancer_type}.Race.{race}\" for race in race_names]]\n",
    "\n",
    "# Calculate the average cancer rates for each race\n",
    "avg_rates = subset_df.mean()\n",
    "\n",
    "# Plot the average cancer rates by race\n",
    "plt.barh(race_names, avg_rates.values)\n",
    "plt.ylabel('Race')\n",
    "plt.xlabel('Average Cancer Rates')\n",
    "plt.title('Variations in Lung Cancer Rates by Race')\n",
    "plt.xticks(rotation=90)\n",
    "plt.show()"
   ]
  },
  {
   "cell_type": "markdown",
   "id": "3e0428f9",
   "metadata": {},
   "source": [
    "Asian has the lowest average lung cancer rate among the racial group. What is the reason? Genetic, life style or other reasons?"
   ]
  },
  {
   "cell_type": "markdown",
   "id": "2b3c13d8",
   "metadata": {},
   "source": [
    "Next, we are going to data visualize how the lung cancer rate change across age. "
   ]
  },
  {
   "cell_type": "code",
   "execution_count": 178,
   "id": "4f34ea7a",
   "metadata": {},
   "outputs": [
    {
     "data": {
      "image/png": "[encoded data removed]",
      "text/plain": [
       "<Figure size 640x480 with 1 Axes>"
      ]
     },
     "metadata": {},
     "output_type": "display_data"
    }
   ],
   "source": [
    "age_groups = ['18 - 44', '45 - 64', '> 64']\n",
    "\n",
    "lung_rates_female = [\n",
    "    df['Types.Lung.Age and Sex.Female.18 - 44'].mean(),\n",
    "    df['Types.Lung.Age and Sex.Female.45 - 64'].mean(),\n",
    "    df['Types.Lung.Age and Sex.Female.> 64'].mean()\n",
    "]\n",
    "\n",
    "lung_rates_male = [\n",
    "    df['Types.Lung.Age and Sex.Male.18 - 44'].mean(),\n",
    "    df['Types.Lung.Age and Sex.Male.45 - 64'].mean(),\n",
    "    df['Types.Lung.Age and Sex.Male.> 64'].mean()\n",
    "]\n",
    "\n",
    "plt.plot(age_groups, lung_rates_female, marker='o', label='Female')\n",
    "plt.plot(age_groups, lung_rates_male, marker='o', label='Male')\n",
    "\n",
    "plt.xlabel('Age Group')\n",
    "plt.ylabel('Average Lung Cancer Rates')\n",
    "plt.title('Trend of Lung Cancer Rates Across Age Groups in the United States')\n",
    "plt.legend()\n",
    "\n",
    "plt.show()"
   ]
  },
  {
   "cell_type": "markdown",
   "id": "23774955",
   "metadata": {},
   "source": [
    "From above figure, we could see no matter the line rapidly increase in the elderly group (> 64). It indicates that age supports the concept that lung cancer is a disease largely associated with aging; so the longer one lives, the greater that person's risk for developing the disease."
   ]
  },
  {
   "cell_type": "markdown",
   "id": "4badd360",
   "metadata": {},
   "source": [
    "# Analysis"
   ]
  },
  {
   "cell_type": "code",
   "execution_count": null,
   "id": "fa366402",
   "metadata": {},
   "outputs": [],
   "source": []
  },
  {
   "cell_type": "markdown",
   "id": "32bd933d-3aab-4eeb-b458-379214c143b2",
   "metadata": {},
   "source": [
    "# Results\n",
    "\n",
    "Cancer doesn’t affect all ethnic groups the same.\n"
   ]
  },
  {
   "cell_type": "markdown",
   "id": "34e1ba4f-5fcb-4502-95f9-4ca43af8347e",
   "metadata": {},
   "source": [
    "# Discussion\n",
    "\n",
    "Lifestyle behaviors encompassing diet, physical exercise, sun exposure, smoking, and alcohol use and sexual practice behaviors\n",
    "Socioeconomic factors including education and income level, access to health insurance, and routine medical screening and services\n",
    "Genetic factors involving inherited genes and a family  history of certain diseases\n",
    "Cultural factors involving practices, beliefs and in some instances mistrust of the health care system, which may prevent some from seeking preventive screening services\n",
    "Age, which supports the concept that cancer is a disease largely associated with aging; so the longer one lives, the greater that person's risk for developing the disease\n",
    "\n",
    "\n",
    "Due to the increasing aging of the population, the rapid development of industrialization and urbanization brought about by rapid economic growth and the deterioration of the environment, as well as the high smoking rate, the harm of lung cancer is gradually emerging."
   ]
  },
  {
   "cell_type": "markdown",
   "id": "9276bce8",
   "metadata": {},
   "source": [
    "# Refereence & Source\n",
    "\n",
    "\n",
    "1. International Agency for Research on Cancer. *[GLOBOCAN Lung Cancer Facts Sheet 2020](https://gco.iarc.fr/today/data/fact-sheets-cancers)*.\n",
    "\n",
    "\n",
    "2. American Cancer Society. *Cancer Facts and Figures 2023*. Atlanta; American Cancer Society: 2023."
   ]
  },
  {
   "cell_type": "code",
   "execution_count": null,
   "id": "b8223bf6",
   "metadata": {},
   "outputs": [],
   "source": []
  },
  {
   "cell_type": "code",
   "execution_count": null,
   "id": "3003a33b",
   "metadata": {},
   "outputs": [],
   "source": []
  }
 ],
 "metadata": {
  "kernelspec": {
   "display_name": "Python 3 (ipykernel)",
   "language": "python",
   "name": "python3"
  },
  "language_info": {
   "codemirror_mode": {
    "name": "ipython",
    "version": 3
   },
   "file_extension": ".py",
   "mimetype": "text/x-python",
   "name": "python",
   "nbconvert_exporter": "python",
   "pygments_lexer": "ipython3",
   "version": "3.10.11"
  }
 },
 "nbformat": 4,
 "nbformat_minor": 5
}
